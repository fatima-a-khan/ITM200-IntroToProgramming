{
  "nbformat": 4,
  "nbformat_minor": 0,
  "metadata": {
    "colab": {
      "name": "ITM760-lab4.ipynb",
      "provenance": [],
      "authorship_tag": "ABX9TyPI8/v7HECrgp4qwqbs5dJG",
      "include_colab_link": true
    },
    "kernelspec": {
      "name": "python3",
      "display_name": "Python 3"
    }
  },
  "cells": [
    {
      "cell_type": "markdown",
      "metadata": {
        "id": "view-in-github",
        "colab_type": "text"
      },
      "source": [
        "<a href=\"https://colab.research.google.com/github/fatima-a-khan/ITM200-IntroToProgramming/blob/master/ITM760_lab4.ipynb\" target=\"_parent\"><img src=\"https://colab.research.google.com/assets/colab-badge.svg\" alt=\"Open In Colab\"/></a>"
      ]
    },
    {
      "cell_type": "code",
      "metadata": {
        "colab": {
          "base_uri": "https://localhost:8080/"
        },
        "id": "ziIvkKq957Nv",
        "outputId": "e590cff5-03ba-4b80-c444-4bd60785646e"
      },
      "source": [
        "pip install apyori"
      ],
      "execution_count": 39,
      "outputs": [
        {
          "output_type": "stream",
          "text": [
            "Requirement already satisfied: apyori in /usr/local/lib/python3.6/dist-packages (1.1.2)\n"
          ],
          "name": "stdout"
        }
      ]
    },
    {
      "cell_type": "code",
      "metadata": {
        "colab": {
          "base_uri": "https://localhost:8080/"
        },
        "id": "57KjQ3Y27tad",
        "outputId": "78d5400e-8de8-4b37-9c88-63f9af36893e"
      },
      "source": [
        "import numpy as np\r\n",
        "import matplotlib.pyplot as plt\r\n",
        "import pandas as pd\r\n",
        "from apyori import apriori\r\n",
        "print(\"libs are loaded successfully\")"
      ],
      "execution_count": 40,
      "outputs": [
        {
          "output_type": "stream",
          "text": [
            "libs are loaded successfully\n"
          ],
          "name": "stdout"
        }
      ]
    },
    {
      "cell_type": "code",
      "metadata": {
        "id": "PcfEg5Ev743G"
      },
      "source": [
        "store_data = pd.read_csv('/content/sample_data/dataset/store_data.csv', header = None)"
      ],
      "execution_count": 41,
      "outputs": []
    },
    {
      "cell_type": "code",
      "metadata": {
        "colab": {
          "base_uri": "https://localhost:8080/"
        },
        "id": "cvOf6R_E8ClT",
        "outputId": "8128f0e3-c0d6-4048-8727-e41e18c696b1"
      },
      "source": [
        "store_data.head()\r\n",
        "len(store_data)"
      ],
      "execution_count": 42,
      "outputs": [
        {
          "output_type": "execute_result",
          "data": {
            "text/plain": [
              "7501"
            ]
          },
          "metadata": {
            "tags": []
          },
          "execution_count": 42
        }
      ]
    },
    {
      "cell_type": "code",
      "metadata": {
        "colab": {
          "base_uri": "https://localhost:8080/"
        },
        "id": "ZrkRCr2j8GCz",
        "outputId": "50c651b4-4d69-443d-d6ff-6164c02dee9d"
      },
      "source": [
        "records = []\r\n",
        "for i in range(0, len(store_data)):\r\n",
        "  tmp = []\r\n",
        "  for j in range (0,20):\r\n",
        "    if str(store_data.values[i,j]) != 'nan':\r\n",
        "      tmp.append(str(store_data.values[i,j]))\r\n",
        "    records.append(tmp)\r\n",
        "records[:5]"
      ],
      "execution_count": 43,
      "outputs": [
        {
          "output_type": "execute_result",
          "data": {
            "text/plain": [
              "[['shrimp',\n",
              "  'almonds',\n",
              "  'avocado',\n",
              "  'vegetables mix',\n",
              "  'green grapes',\n",
              "  'whole weat flour',\n",
              "  'yams',\n",
              "  'cottage cheese',\n",
              "  'energy drink',\n",
              "  'tomato juice',\n",
              "  'low fat yogurt',\n",
              "  'green tea',\n",
              "  'honey',\n",
              "  'salad',\n",
              "  'mineral water',\n",
              "  'salmon',\n",
              "  'antioxydant juice',\n",
              "  'frozen smoothie',\n",
              "  'spinach',\n",
              "  'olive oil'],\n",
              " ['shrimp',\n",
              "  'almonds',\n",
              "  'avocado',\n",
              "  'vegetables mix',\n",
              "  'green grapes',\n",
              "  'whole weat flour',\n",
              "  'yams',\n",
              "  'cottage cheese',\n",
              "  'energy drink',\n",
              "  'tomato juice',\n",
              "  'low fat yogurt',\n",
              "  'green tea',\n",
              "  'honey',\n",
              "  'salad',\n",
              "  'mineral water',\n",
              "  'salmon',\n",
              "  'antioxydant juice',\n",
              "  'frozen smoothie',\n",
              "  'spinach',\n",
              "  'olive oil'],\n",
              " ['shrimp',\n",
              "  'almonds',\n",
              "  'avocado',\n",
              "  'vegetables mix',\n",
              "  'green grapes',\n",
              "  'whole weat flour',\n",
              "  'yams',\n",
              "  'cottage cheese',\n",
              "  'energy drink',\n",
              "  'tomato juice',\n",
              "  'low fat yogurt',\n",
              "  'green tea',\n",
              "  'honey',\n",
              "  'salad',\n",
              "  'mineral water',\n",
              "  'salmon',\n",
              "  'antioxydant juice',\n",
              "  'frozen smoothie',\n",
              "  'spinach',\n",
              "  'olive oil'],\n",
              " ['shrimp',\n",
              "  'almonds',\n",
              "  'avocado',\n",
              "  'vegetables mix',\n",
              "  'green grapes',\n",
              "  'whole weat flour',\n",
              "  'yams',\n",
              "  'cottage cheese',\n",
              "  'energy drink',\n",
              "  'tomato juice',\n",
              "  'low fat yogurt',\n",
              "  'green tea',\n",
              "  'honey',\n",
              "  'salad',\n",
              "  'mineral water',\n",
              "  'salmon',\n",
              "  'antioxydant juice',\n",
              "  'frozen smoothie',\n",
              "  'spinach',\n",
              "  'olive oil'],\n",
              " ['shrimp',\n",
              "  'almonds',\n",
              "  'avocado',\n",
              "  'vegetables mix',\n",
              "  'green grapes',\n",
              "  'whole weat flour',\n",
              "  'yams',\n",
              "  'cottage cheese',\n",
              "  'energy drink',\n",
              "  'tomato juice',\n",
              "  'low fat yogurt',\n",
              "  'green tea',\n",
              "  'honey',\n",
              "  'salad',\n",
              "  'mineral water',\n",
              "  'salmon',\n",
              "  'antioxydant juice',\n",
              "  'frozen smoothie',\n",
              "  'spinach',\n",
              "  'olive oil']]"
            ]
          },
          "metadata": {
            "tags": []
          },
          "execution_count": 43
        }
      ]
    },
    {
      "cell_type": "code",
      "metadata": {
        "colab": {
          "base_uri": "https://localhost:8080/"
        },
        "id": "NT5Kl5Io8yOT",
        "outputId": "bb091901-b46d-4a92-cfeb-ce85e94d47ab"
      },
      "source": [
        "association_rules = apriori(records, min_support = 0.0045, min_confidence = 0.5, min_length = 2)\r\n",
        "association_results = list(association_rules)\r\n",
        "len(association_results)"
      ],
      "execution_count": 52,
      "outputs": [
        {
          "output_type": "execute_result",
          "data": {
            "text/plain": [
              "28"
            ]
          },
          "metadata": {
            "tags": []
          },
          "execution_count": 52
        }
      ]
    },
    {
      "cell_type": "code",
      "metadata": {
        "colab": {
          "base_uri": "https://localhost:8080/"
        },
        "id": "a5tUOAdMAHPJ",
        "outputId": "3dbe7dbf-7b37-46d9-98fc-d32947379545"
      },
      "source": [
        "for item in association_results:\r\n",
        "  print(item[0])"
      ],
      "execution_count": 53,
      "outputs": [
        {
          "output_type": "stream",
          "text": [
            "frozenset({'chicken', 'mineral water', 'chocolate'})\n",
            "frozenset({'chicken', 'ground beef', 'spaghetti'})\n",
            "frozenset({'chicken', 'pancakes', 'mineral water'})\n",
            "frozenset({'mineral water', 'olive oil', 'chocolate'})\n",
            "frozenset({'mineral water', 'soup', 'chocolate'})\n",
            "frozenset({'cooking oil', 'eggs', 'mineral water'})\n",
            "frozenset({'cooking oil', 'ground beef', 'spaghetti'})\n",
            "frozenset({'cooking oil', 'pancakes', 'mineral water'})\n",
            "frozenset({'mineral water', 'ground beef', 'eggs'})\n",
            "frozenset({'mineral water', 'soup', 'eggs'})\n",
            "frozenset({'mineral water', 'frozen vegetables', 'ground beef'})\n",
            "frozenset({'frozen vegetables', 'ground beef', 'spaghetti'})\n",
            "frozenset({'mineral water', 'olive oil', 'frozen vegetables'})\n",
            "frozenset({'mineral water', 'frozen vegetables', 'soup'})\n",
            "frozenset({'olive oil', 'frozen vegetables', 'spaghetti'})\n",
            "frozenset({'mineral water', 'ground beef', 'low fat yogurt'})\n",
            "frozenset({'mineral water', 'ground beef', 'milk'})\n",
            "frozenset({'mineral water', 'ground beef', 'pancakes'})\n",
            "frozenset({'mineral water', 'soup', 'ground beef'})\n",
            "frozenset({'spaghetti', 'ground beef', 'shrimp'})\n",
            "frozenset({'mineral water', 'olive oil', 'milk'})\n",
            "frozenset({'mineral water', 'soup', 'milk'})\n",
            "frozenset({'mineral water', 'milk', 'turkey'})\n",
            "frozenset({'mineral water', 'olive oil', 'shrimp'})\n",
            "frozenset({'mineral water', 'olive oil', 'soup'})\n",
            "frozenset({'mineral water', 'spaghetti', 'salmon'})\n",
            "frozenset({'mineral water', 'soup', 'spaghetti'})\n",
            "frozenset({'mineral water', 'frozen vegetables', 'milk', 'spaghetti'})\n"
          ],
          "name": "stdout"
        }
      ]
    },
    {
      "cell_type": "code",
      "metadata": {
        "colab": {
          "base_uri": "https://localhost:8080/"
        },
        "id": "k15UFNYgBAPV",
        "outputId": "16f1e29e-6152-4476-a201-84eb512b13b3"
      },
      "source": [
        "for item in association_results:\r\n",
        "  pair = item[0]\r\n",
        "  items = [x for x in pair]\r\n",
        "  if len(items) > 1:\r\n",
        "    print(\"Rule: \" + items[0] + \" -> \" + items[1])\r\n",
        "    print(\"Support: \" + str(items[1]))\r\n",
        "    print(\"Confidence: \" + str(item[2][0][2]))\r\n",
        "    print(\"==============\")"
      ],
      "execution_count": 55,
      "outputs": [
        {
          "output_type": "stream",
          "text": [
            "Rule: chicken -> mineral water\n",
            "Support: mineral water\n",
            "Confidence: 0.5181818181818182\n",
            "==============\n",
            "Rule: chicken -> ground beef\n",
            "Support: ground beef\n",
            "Confidence: 0.5070422535211266\n",
            "==============\n",
            "Rule: chicken -> pancakes\n",
            "Support: pancakes\n",
            "Confidence: 0.5294117647058824\n",
            "==============\n",
            "Rule: mineral water -> olive oil\n",
            "Support: olive oil\n",
            "Confidence: 0.5040650406504065\n",
            "==============\n",
            "Rule: mineral water -> soup\n",
            "Support: soup\n",
            "Confidence: 0.5526315789473685\n",
            "==============\n",
            "Rule: cooking oil -> eggs\n",
            "Support: eggs\n",
            "Confidence: 0.5454545454545454\n",
            "==============\n",
            "Rule: cooking oil -> ground beef\n",
            "Support: ground beef\n",
            "Confidence: 0.5714285714285714\n",
            "==============\n",
            "Rule: cooking oil -> pancakes\n",
            "Support: pancakes\n",
            "Confidence: 0.5932203389830508\n",
            "==============\n",
            "Rule: mineral water -> ground beef\n",
            "Support: ground beef\n",
            "Confidence: 0.5066666666666667\n",
            "==============\n",
            "Rule: mineral water -> soup\n",
            "Support: soup\n",
            "Confidence: 0.5441176470588236\n",
            "==============\n",
            "Rule: mineral water -> frozen vegetables\n",
            "Support: frozen vegetables\n",
            "Confidence: 0.5433070866141732\n",
            "==============\n",
            "Rule: frozen vegetables -> ground beef\n",
            "Support: ground beef\n",
            "Confidence: 0.5118110236220472\n",
            "==============\n",
            "Rule: mineral water -> olive oil\n",
            "Support: olive oil\n",
            "Confidence: 0.5764705882352941\n",
            "==============\n",
            "Rule: mineral water -> frozen vegetables\n",
            "Support: frozen vegetables\n",
            "Confidence: 0.6333333333333333\n",
            "==============\n",
            "Rule: olive oil -> frozen vegetables\n",
            "Support: frozen vegetables\n",
            "Confidence: 0.5058823529411764\n",
            "==============\n",
            "Rule: mineral water -> ground beef\n",
            "Support: ground beef\n",
            "Confidence: 0.5\n",
            "==============\n",
            "Rule: mineral water -> ground beef\n",
            "Support: ground beef\n",
            "Confidence: 0.503030303030303\n",
            "==============\n",
            "Rule: mineral water -> ground beef\n",
            "Support: ground beef\n",
            "Confidence: 0.5137614678899083\n",
            "==============\n",
            "Rule: mineral water -> soup\n",
            "Support: soup\n",
            "Confidence: 0.5205479452054794\n",
            "==============\n",
            "Rule: spaghetti -> ground beef\n",
            "Support: ground beef\n",
            "Confidence: 0.5232558139534884\n",
            "==============\n",
            "Rule: mineral water -> olive oil\n",
            "Support: olive oil\n",
            "Confidence: 0.5\n",
            "==============\n",
            "Rule: mineral water -> soup\n",
            "Support: soup\n",
            "Confidence: 0.5614035087719298\n",
            "==============\n",
            "Rule: mineral water -> milk\n",
            "Support: milk\n",
            "Confidence: 0.5411764705882353\n",
            "==============\n",
            "Rule: mineral water -> olive oil\n",
            "Support: olive oil\n",
            "Confidence: 0.5573770491803278\n",
            "==============\n",
            "Rule: mineral water -> olive oil\n",
            "Support: olive oil\n",
            "Confidence: 0.582089552238806\n",
            "==============\n",
            "Rule: mineral water -> spaghetti\n",
            "Support: spaghetti\n",
            "Confidence: 0.504950495049505\n",
            "==============\n",
            "Rule: mineral water -> soup\n",
            "Support: soup\n",
            "Confidence: 0.5233644859813084\n",
            "==============\n",
            "Rule: mineral water -> frozen vegetables\n",
            "Support: frozen vegetables\n",
            "Confidence: 0.5483870967741935\n",
            "==============\n"
          ],
          "name": "stdout"
        }
      ]
    }
  ]
}